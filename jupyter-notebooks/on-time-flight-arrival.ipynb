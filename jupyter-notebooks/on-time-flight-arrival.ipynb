{
  "cells": [
    {
      "metadata": {},
      "cell_type": "markdown",
      "source": "# Analyzing arrival time of flight\n\n## Goal\n\nWill be updated down the line ! Right now it is technical i.e. load data using Pandas, Use sci-kit to build model, and Use matplotlib to build visualizations !\n\n## Load data\n\nDownload and load the data into a pandas data frame."
    },
    {
      "metadata": {
        "trusted": true
      },
      "cell_type": "code",
      "source": "#!curl https://topcs.blob.core.windows.net/public/FlightData.csv -o flightdata.csv",
      "execution_count": 8,
      "outputs": []
    },
    {
      "metadata": {
        "trusted": true
      },
      "cell_type": "code",
      "source": "import pandas as pd\n\nflightdata = pd.read_csv('flightdata.csv')\nflightdata.head()",
      "execution_count": 9,
      "outputs": [
        {
          "output_type": "execute_result",
          "execution_count": 9,
          "data": {
            "text/html": "<div>\n<style scoped>\n    .dataframe tbody tr th:only-of-type {\n        vertical-align: middle;\n    }\n\n    .dataframe tbody tr th {\n        vertical-align: top;\n    }\n\n    .dataframe thead th {\n        text-align: right;\n    }\n</style>\n<table border=\"1\" class=\"dataframe\">\n  <thead>\n    <tr style=\"text-align: right;\">\n      <th></th>\n      <th>YEAR</th>\n      <th>QUARTER</th>\n      <th>MONTH</th>\n      <th>DAY_OF_MONTH</th>\n      <th>DAY_OF_WEEK</th>\n      <th>UNIQUE_CARRIER</th>\n      <th>TAIL_NUM</th>\n      <th>FL_NUM</th>\n      <th>ORIGIN_AIRPORT_ID</th>\n      <th>ORIGIN</th>\n      <th>...</th>\n      <th>CRS_ARR_TIME</th>\n      <th>ARR_TIME</th>\n      <th>ARR_DELAY</th>\n      <th>ARR_DEL15</th>\n      <th>CANCELLED</th>\n      <th>DIVERTED</th>\n      <th>CRS_ELAPSED_TIME</th>\n      <th>ACTUAL_ELAPSED_TIME</th>\n      <th>DISTANCE</th>\n      <th>Unnamed: 25</th>\n    </tr>\n  </thead>\n  <tbody>\n    <tr>\n      <th>0</th>\n      <td>2016</td>\n      <td>1</td>\n      <td>1</td>\n      <td>1</td>\n      <td>5</td>\n      <td>DL</td>\n      <td>N836DN</td>\n      <td>1399</td>\n      <td>10397</td>\n      <td>ATL</td>\n      <td>...</td>\n      <td>2143</td>\n      <td>2102.0</td>\n      <td>-41.0</td>\n      <td>0.0</td>\n      <td>0.0</td>\n      <td>0.0</td>\n      <td>338.0</td>\n      <td>295.0</td>\n      <td>2182.0</td>\n      <td>NaN</td>\n    </tr>\n    <tr>\n      <th>1</th>\n      <td>2016</td>\n      <td>1</td>\n      <td>1</td>\n      <td>1</td>\n      <td>5</td>\n      <td>DL</td>\n      <td>N964DN</td>\n      <td>1476</td>\n      <td>11433</td>\n      <td>DTW</td>\n      <td>...</td>\n      <td>1435</td>\n      <td>1439.0</td>\n      <td>4.0</td>\n      <td>0.0</td>\n      <td>0.0</td>\n      <td>0.0</td>\n      <td>110.0</td>\n      <td>115.0</td>\n      <td>528.0</td>\n      <td>NaN</td>\n    </tr>\n    <tr>\n      <th>2</th>\n      <td>2016</td>\n      <td>1</td>\n      <td>1</td>\n      <td>1</td>\n      <td>5</td>\n      <td>DL</td>\n      <td>N813DN</td>\n      <td>1597</td>\n      <td>10397</td>\n      <td>ATL</td>\n      <td>...</td>\n      <td>1215</td>\n      <td>1142.0</td>\n      <td>-33.0</td>\n      <td>0.0</td>\n      <td>0.0</td>\n      <td>0.0</td>\n      <td>335.0</td>\n      <td>300.0</td>\n      <td>2182.0</td>\n      <td>NaN</td>\n    </tr>\n    <tr>\n      <th>3</th>\n      <td>2016</td>\n      <td>1</td>\n      <td>1</td>\n      <td>1</td>\n      <td>5</td>\n      <td>DL</td>\n      <td>N587NW</td>\n      <td>1768</td>\n      <td>14747</td>\n      <td>SEA</td>\n      <td>...</td>\n      <td>1335</td>\n      <td>1345.0</td>\n      <td>10.0</td>\n      <td>0.0</td>\n      <td>0.0</td>\n      <td>0.0</td>\n      <td>196.0</td>\n      <td>205.0</td>\n      <td>1399.0</td>\n      <td>NaN</td>\n    </tr>\n    <tr>\n      <th>4</th>\n      <td>2016</td>\n      <td>1</td>\n      <td>1</td>\n      <td>1</td>\n      <td>5</td>\n      <td>DL</td>\n      <td>N836DN</td>\n      <td>1823</td>\n      <td>14747</td>\n      <td>SEA</td>\n      <td>...</td>\n      <td>607</td>\n      <td>615.0</td>\n      <td>8.0</td>\n      <td>0.0</td>\n      <td>0.0</td>\n      <td>0.0</td>\n      <td>247.0</td>\n      <td>259.0</td>\n      <td>1927.0</td>\n      <td>NaN</td>\n    </tr>\n  </tbody>\n</table>\n<p>5 rows × 26 columns</p>\n</div>",
            "text/plain": "   YEAR  QUARTER  MONTH  DAY_OF_MONTH  DAY_OF_WEEK UNIQUE_CARRIER TAIL_NUM  \\\n0  2016        1      1             1            5             DL   N836DN   \n1  2016        1      1             1            5             DL   N964DN   \n2  2016        1      1             1            5             DL   N813DN   \n3  2016        1      1             1            5             DL   N587NW   \n4  2016        1      1             1            5             DL   N836DN   \n\n   FL_NUM  ORIGIN_AIRPORT_ID ORIGIN     ...       CRS_ARR_TIME ARR_TIME  \\\n0    1399              10397    ATL     ...               2143   2102.0   \n1    1476              11433    DTW     ...               1435   1439.0   \n2    1597              10397    ATL     ...               1215   1142.0   \n3    1768              14747    SEA     ...               1335   1345.0   \n4    1823              14747    SEA     ...                607    615.0   \n\n   ARR_DELAY  ARR_DEL15  CANCELLED  DIVERTED  CRS_ELAPSED_TIME  \\\n0      -41.0        0.0        0.0       0.0             338.0   \n1        4.0        0.0        0.0       0.0             110.0   \n2      -33.0        0.0        0.0       0.0             335.0   \n3       10.0        0.0        0.0       0.0             196.0   \n4        8.0        0.0        0.0       0.0             247.0   \n\n   ACTUAL_ELAPSED_TIME  DISTANCE  Unnamed: 25  \n0                295.0    2182.0          NaN  \n1                115.0     528.0          NaN  \n2                300.0    2182.0          NaN  \n3                205.0    1399.0          NaN  \n4                259.0    1927.0          NaN  \n\n[5 rows x 26 columns]"
          },
          "metadata": {}
        }
      ]
    },
    {
      "metadata": {},
      "cell_type": "markdown",
      "source": "## Perform data analysis\n\nFirst inspect the dimensions of the data that is loaded."
    },
    {
      "metadata": {
        "trusted": true
      },
      "cell_type": "code",
      "source": "flightdata.shape",
      "execution_count": 10,
      "outputs": [
        {
          "output_type": "execute_result",
          "execution_count": 10,
          "data": {
            "text/plain": "(11231, 26)"
          },
          "metadata": {}
        }
      ]
    },
    {
      "metadata": {},
      "cell_type": "markdown",
      "source": "Next extract the columns of the data, though we already have a glimpse by the `flightdata.head()` call. However, let us add the datatypes as well to be determined."
    },
    {
      "metadata": {
        "trusted": true
      },
      "cell_type": "code",
      "source": "flightdata.columns\nflightdata.dtypes",
      "execution_count": 11,
      "outputs": [
        {
          "output_type": "execute_result",
          "execution_count": 11,
          "data": {
            "text/plain": "YEAR                     int64\nQUARTER                  int64\nMONTH                    int64\nDAY_OF_MONTH             int64\nDAY_OF_WEEK              int64\nUNIQUE_CARRIER          object\nTAIL_NUM                object\nFL_NUM                   int64\nORIGIN_AIRPORT_ID        int64\nORIGIN                  object\nDEST_AIRPORT_ID          int64\nDEST                    object\nCRS_DEP_TIME             int64\nDEP_TIME               float64\nDEP_DELAY              float64\nDEP_DEL15              float64\nCRS_ARR_TIME             int64\nARR_TIME               float64\nARR_DELAY              float64\nARR_DEL15              float64\nCANCELLED              float64\nDIVERTED               float64\nCRS_ELAPSED_TIME       float64\nACTUAL_ELAPSED_TIME    float64\nDISTANCE               float64\nUnnamed: 25            float64\ndtype: object"
          },
          "metadata": {}
        }
      ]
    },
    {
      "metadata": {},
      "cell_type": "markdown",
      "source": "Let us now inspect for any null values in the data. The check will let us know in boolean if there are nulls or not. Based on the result of the check, we will summarize per column how many null values are in the data. This will help us decide the corrective action required to make the dataset usefule. i.e. if the null values are in columns which we suspect will not have any colinearity to delay we could drop and for columns where we anticipate colinearity we should try to fill a reasonable value but if we fear of distorting the dataset we should remove the observation from the data itself."
    },
    {
      "metadata": {
        "trusted": true
      },
      "cell_type": "code",
      "source": "if flightdata.isnull().values.any():\n    print(flightdata.isnull().sum())\nelse:\n    print('No null values!')",
      "execution_count": 12,
      "outputs": [
        {
          "output_type": "stream",
          "text": "YEAR                       0\nQUARTER                    0\nMONTH                      0\nDAY_OF_MONTH               0\nDAY_OF_WEEK                0\nUNIQUE_CARRIER             0\nTAIL_NUM                   0\nFL_NUM                     0\nORIGIN_AIRPORT_ID          0\nORIGIN                     0\nDEST_AIRPORT_ID            0\nDEST                       0\nCRS_DEP_TIME               0\nDEP_TIME                 107\nDEP_DELAY                107\nDEP_DEL15                107\nCRS_ARR_TIME               0\nARR_TIME                 115\nARR_DELAY                188\nARR_DEL15                188\nCANCELLED                  0\nDIVERTED                   0\nCRS_ELAPSED_TIME           0\nACTUAL_ELAPSED_TIME      188\nDISTANCE                   0\nUnnamed: 25            11231\ndtype: int64\n",
          "name": "stdout"
        }
      ]
    },
    {
      "metadata": {},
      "cell_type": "markdown",
      "source": "Let us do the obvious thing first. That is remove the unintended parsing result away i.e. the column 25. We can do this by - "
    },
    {
      "metadata": {
        "trusted": true
      },
      "cell_type": "code",
      "source": "flightdata = flightdata.drop('Unnamed: 25', axis=1)",
      "execution_count": 13,
      "outputs": []
    },
    {
      "metadata": {},
      "cell_type": "markdown",
      "source": "Now let us check the impact on sum of nulls"
    },
    {
      "metadata": {
        "trusted": true
      },
      "cell_type": "code",
      "source": "flightdata.isnull().sum()",
      "execution_count": 14,
      "outputs": [
        {
          "output_type": "execute_result",
          "execution_count": 14,
          "data": {
            "text/plain": "YEAR                     0\nQUARTER                  0\nMONTH                    0\nDAY_OF_MONTH             0\nDAY_OF_WEEK              0\nUNIQUE_CARRIER           0\nTAIL_NUM                 0\nFL_NUM                   0\nORIGIN_AIRPORT_ID        0\nORIGIN                   0\nDEST_AIRPORT_ID          0\nDEST                     0\nCRS_DEP_TIME             0\nDEP_TIME               107\nDEP_DELAY              107\nDEP_DEL15              107\nCRS_ARR_TIME             0\nARR_TIME               115\nARR_DELAY              188\nARR_DEL15              188\nCANCELLED                0\nDIVERTED                 0\nCRS_ELAPSED_TIME         0\nACTUAL_ELAPSED_TIME    188\nDISTANCE                 0\ndtype: int64"
          },
          "metadata": {}
        }
      ]
    },
    {
      "metadata": {},
      "cell_type": "markdown",
      "source": "We are good here so, let us work on the relevancy of the columns and restructure our data frame a bit before we take another look on null columns.\n\nE.g. columns like TAIL_NUM will have no bearing on the flight delay. Wehereas, the column like ARR_DEL15 will have more meaning in our analysis. Powered by such logic we will now reformat our data frame to have only the following columns - "
    },
    {
      "metadata": {
        "trusted": true
      },
      "cell_type": "code",
      "source": "flightdata = flightdata[['MONTH', 'DAY_OF_MONTH', 'DAY_OF_WEEK', 'ORIGIN', 'DEST', 'CRS_DEP_TIME', 'CANCELLED', 'DIVERTED', 'ARR_DEL15']]\nflightdata.isnull().sum()",
      "execution_count": 15,
      "outputs": [
        {
          "output_type": "execute_result",
          "execution_count": 15,
          "data": {
            "text/plain": "MONTH             0\nDAY_OF_MONTH      0\nDAY_OF_WEEK       0\nORIGIN            0\nDEST              0\nCRS_DEP_TIME      0\nCANCELLED         0\nDIVERTED          0\nARR_DEL15       188\ndtype: int64"
          },
          "metadata": {}
        }
      ]
    },
    {
      "metadata": {},
      "cell_type": "markdown",
      "source": "It is evident that the column ARR_DEL15 is needed for the analysis of on-time or delay status of the field. We thus take a peek on some top data which are null for that column"
    },
    {
      "metadata": {
        "trusted": true
      },
      "cell_type": "code",
      "source": "flightdata[flightdata.isnull().values.any(axis=1)].head()",
      "execution_count": 16,
      "outputs": [
        {
          "output_type": "execute_result",
          "execution_count": 16,
          "data": {
            "text/html": "<div>\n<style scoped>\n    .dataframe tbody tr th:only-of-type {\n        vertical-align: middle;\n    }\n\n    .dataframe tbody tr th {\n        vertical-align: top;\n    }\n\n    .dataframe thead th {\n        text-align: right;\n    }\n</style>\n<table border=\"1\" class=\"dataframe\">\n  <thead>\n    <tr style=\"text-align: right;\">\n      <th></th>\n      <th>MONTH</th>\n      <th>DAY_OF_MONTH</th>\n      <th>DAY_OF_WEEK</th>\n      <th>ORIGIN</th>\n      <th>DEST</th>\n      <th>CRS_DEP_TIME</th>\n      <th>CANCELLED</th>\n      <th>DIVERTED</th>\n      <th>ARR_DEL15</th>\n    </tr>\n  </thead>\n  <tbody>\n    <tr>\n      <th>177</th>\n      <td>1</td>\n      <td>9</td>\n      <td>6</td>\n      <td>MSP</td>\n      <td>SEA</td>\n      <td>701</td>\n      <td>0.0</td>\n      <td>1.0</td>\n      <td>NaN</td>\n    </tr>\n    <tr>\n      <th>179</th>\n      <td>1</td>\n      <td>10</td>\n      <td>7</td>\n      <td>MSP</td>\n      <td>DTW</td>\n      <td>1348</td>\n      <td>1.0</td>\n      <td>0.0</td>\n      <td>NaN</td>\n    </tr>\n    <tr>\n      <th>184</th>\n      <td>1</td>\n      <td>10</td>\n      <td>7</td>\n      <td>MSP</td>\n      <td>DTW</td>\n      <td>625</td>\n      <td>0.0</td>\n      <td>1.0</td>\n      <td>NaN</td>\n    </tr>\n    <tr>\n      <th>210</th>\n      <td>1</td>\n      <td>10</td>\n      <td>7</td>\n      <td>DTW</td>\n      <td>MSP</td>\n      <td>1200</td>\n      <td>1.0</td>\n      <td>0.0</td>\n      <td>NaN</td>\n    </tr>\n    <tr>\n      <th>478</th>\n      <td>1</td>\n      <td>22</td>\n      <td>5</td>\n      <td>SEA</td>\n      <td>JFK</td>\n      <td>2305</td>\n      <td>1.0</td>\n      <td>0.0</td>\n      <td>NaN</td>\n    </tr>\n  </tbody>\n</table>\n</div>",
            "text/plain": "     MONTH  DAY_OF_MONTH  DAY_OF_WEEK ORIGIN DEST  CRS_DEP_TIME  CANCELLED  \\\n177      1             9            6    MSP  SEA           701        0.0   \n179      1            10            7    MSP  DTW          1348        1.0   \n184      1            10            7    MSP  DTW           625        0.0   \n210      1            10            7    DTW  MSP          1200        1.0   \n478      1            22            5    SEA  JFK          2305        1.0   \n\n     DIVERTED  ARR_DEL15  \n177       1.0        NaN  \n179       0.0        NaN  \n184       1.0        NaN  \n210       0.0        NaN  \n478       0.0        NaN  "
          },
          "metadata": {}
        }
      ]
    },
    {
      "metadata": {},
      "cell_type": "markdown",
      "source": "We notice that delayed flights which have NULL (NaN) in ARR_DEL15 are either cancelled or diverted flights. Following is the way to proove that!"
    },
    {
      "metadata": {
        "trusted": true
      },
      "cell_type": "code",
      "source": "allnas = flightdata[flightdata.isna().values.any(axis=1)]\ncancelled = allnas[['CANCELLED']]\ndiverted = allnas[['DIVERTED']]\ntotal_canc_div_flights = float(cancelled.sum()) + float(diverted.sum())\n\n\nif(total_canc_div_flights == float(flightdata.isnull()['ARR_DEL15'].sum())):\n    print('Flights are either cancelled or diverted always for NULL values in arrival delay')\nelse:\n    print('There could be other reasons for data having NULL values for arrival delay')",
      "execution_count": 17,
      "outputs": [
        {
          "output_type": "stream",
          "text": "Flights are either cancelled or diverted always for NULL values in arrival delay\n",
          "name": "stdout"
        }
      ]
    },
    {
      "metadata": {},
      "cell_type": "markdown",
      "source": "Now that we are sure that the ARR_DEL15 is NULL because of delayed or cancelled flight. However, instead of dropping those rows we can fill them with 1's, i.e. they are considered as delayed as it would have caused the passengers if not same level of discomfort at least more discomfort."
    },
    {
      "metadata": {
        "trusted": true
      },
      "cell_type": "code",
      "source": "flightdata = flightdata.fillna({'ARR_DEL15':1})\nflightdata.iloc[177:185]",
      "execution_count": 18,
      "outputs": [
        {
          "output_type": "execute_result",
          "execution_count": 18,
          "data": {
            "text/html": "<div>\n<style scoped>\n    .dataframe tbody tr th:only-of-type {\n        vertical-align: middle;\n    }\n\n    .dataframe tbody tr th {\n        vertical-align: top;\n    }\n\n    .dataframe thead th {\n        text-align: right;\n    }\n</style>\n<table border=\"1\" class=\"dataframe\">\n  <thead>\n    <tr style=\"text-align: right;\">\n      <th></th>\n      <th>MONTH</th>\n      <th>DAY_OF_MONTH</th>\n      <th>DAY_OF_WEEK</th>\n      <th>ORIGIN</th>\n      <th>DEST</th>\n      <th>CRS_DEP_TIME</th>\n      <th>CANCELLED</th>\n      <th>DIVERTED</th>\n      <th>ARR_DEL15</th>\n    </tr>\n  </thead>\n  <tbody>\n    <tr>\n      <th>177</th>\n      <td>1</td>\n      <td>9</td>\n      <td>6</td>\n      <td>MSP</td>\n      <td>SEA</td>\n      <td>701</td>\n      <td>0.0</td>\n      <td>1.0</td>\n      <td>1.0</td>\n    </tr>\n    <tr>\n      <th>178</th>\n      <td>1</td>\n      <td>9</td>\n      <td>6</td>\n      <td>DTW</td>\n      <td>JFK</td>\n      <td>1527</td>\n      <td>0.0</td>\n      <td>0.0</td>\n      <td>0.0</td>\n    </tr>\n    <tr>\n      <th>179</th>\n      <td>1</td>\n      <td>10</td>\n      <td>7</td>\n      <td>MSP</td>\n      <td>DTW</td>\n      <td>1348</td>\n      <td>1.0</td>\n      <td>0.0</td>\n      <td>1.0</td>\n    </tr>\n    <tr>\n      <th>180</th>\n      <td>1</td>\n      <td>10</td>\n      <td>7</td>\n      <td>DTW</td>\n      <td>MSP</td>\n      <td>1540</td>\n      <td>0.0</td>\n      <td>0.0</td>\n      <td>0.0</td>\n    </tr>\n    <tr>\n      <th>181</th>\n      <td>1</td>\n      <td>10</td>\n      <td>7</td>\n      <td>JFK</td>\n      <td>ATL</td>\n      <td>1325</td>\n      <td>0.0</td>\n      <td>0.0</td>\n      <td>0.0</td>\n    </tr>\n    <tr>\n      <th>182</th>\n      <td>1</td>\n      <td>10</td>\n      <td>7</td>\n      <td>JFK</td>\n      <td>ATL</td>\n      <td>610</td>\n      <td>0.0</td>\n      <td>0.0</td>\n      <td>0.0</td>\n    </tr>\n    <tr>\n      <th>183</th>\n      <td>1</td>\n      <td>10</td>\n      <td>7</td>\n      <td>JFK</td>\n      <td>SEA</td>\n      <td>1615</td>\n      <td>0.0</td>\n      <td>0.0</td>\n      <td>0.0</td>\n    </tr>\n    <tr>\n      <th>184</th>\n      <td>1</td>\n      <td>10</td>\n      <td>7</td>\n      <td>MSP</td>\n      <td>DTW</td>\n      <td>625</td>\n      <td>0.0</td>\n      <td>1.0</td>\n      <td>1.0</td>\n    </tr>\n  </tbody>\n</table>\n</div>",
            "text/plain": "     MONTH  DAY_OF_MONTH  DAY_OF_WEEK ORIGIN DEST  CRS_DEP_TIME  CANCELLED  \\\n177      1             9            6    MSP  SEA           701        0.0   \n178      1             9            6    DTW  JFK          1527        0.0   \n179      1            10            7    MSP  DTW          1348        1.0   \n180      1            10            7    DTW  MSP          1540        0.0   \n181      1            10            7    JFK  ATL          1325        0.0   \n182      1            10            7    JFK  ATL           610        0.0   \n183      1            10            7    JFK  SEA          1615        0.0   \n184      1            10            7    MSP  DTW           625        0.0   \n\n     DIVERTED  ARR_DEL15  \n177       1.0        1.0  \n178       0.0        0.0  \n179       0.0        1.0  \n180       0.0        0.0  \n181       0.0        0.0  \n182       0.0        0.0  \n183       0.0        0.0  \n184       1.0        1.0  "
          },
          "metadata": {}
        }
      ]
    },
    {
      "metadata": {},
      "cell_type": "markdown",
      "source": "The CRS_DEP_TIME column of the dataset you are using represents scheduled departure times. The granularity of the numbers in this column — it contains more than 500 unique values — could have a negative impact on accuracy in a machine-learning model. This can be resolved using a technique called binning or quantization. What if you divided each number in this column by 100 and rounded down to the nearest integer? 1030 would become 10, 1925 would become 19, and so on, and you would be left with a maximum of 24 discrete values in this column. Intuitively, it makes sense, because it probably doesn't matter much whether a flight leaves at 10:30 a.m. or 10:40 a.m. It matters a great deal whether it leaves at 10:30 a.m. or 5:30 p.m."
    },
    {
      "metadata": {
        "trusted": true
      },
      "cell_type": "code",
      "source": "import math\n\nfor index, row in flightdata.iterrows():\n    flightdata.loc[index, 'CRS_DEP_TIME'] = math.floor(row['CRS_DEP_TIME'] / 100)\n    \nflightdata.head()",
      "execution_count": 19,
      "outputs": [
        {
          "output_type": "execute_result",
          "execution_count": 19,
          "data": {
            "text/html": "<div>\n<style scoped>\n    .dataframe tbody tr th:only-of-type {\n        vertical-align: middle;\n    }\n\n    .dataframe tbody tr th {\n        vertical-align: top;\n    }\n\n    .dataframe thead th {\n        text-align: right;\n    }\n</style>\n<table border=\"1\" class=\"dataframe\">\n  <thead>\n    <tr style=\"text-align: right;\">\n      <th></th>\n      <th>MONTH</th>\n      <th>DAY_OF_MONTH</th>\n      <th>DAY_OF_WEEK</th>\n      <th>ORIGIN</th>\n      <th>DEST</th>\n      <th>CRS_DEP_TIME</th>\n      <th>CANCELLED</th>\n      <th>DIVERTED</th>\n      <th>ARR_DEL15</th>\n    </tr>\n  </thead>\n  <tbody>\n    <tr>\n      <th>0</th>\n      <td>1</td>\n      <td>1</td>\n      <td>5</td>\n      <td>ATL</td>\n      <td>SEA</td>\n      <td>19</td>\n      <td>0.0</td>\n      <td>0.0</td>\n      <td>0.0</td>\n    </tr>\n    <tr>\n      <th>1</th>\n      <td>1</td>\n      <td>1</td>\n      <td>5</td>\n      <td>DTW</td>\n      <td>MSP</td>\n      <td>13</td>\n      <td>0.0</td>\n      <td>0.0</td>\n      <td>0.0</td>\n    </tr>\n    <tr>\n      <th>2</th>\n      <td>1</td>\n      <td>1</td>\n      <td>5</td>\n      <td>ATL</td>\n      <td>SEA</td>\n      <td>9</td>\n      <td>0.0</td>\n      <td>0.0</td>\n      <td>0.0</td>\n    </tr>\n    <tr>\n      <th>3</th>\n      <td>1</td>\n      <td>1</td>\n      <td>5</td>\n      <td>SEA</td>\n      <td>MSP</td>\n      <td>8</td>\n      <td>0.0</td>\n      <td>0.0</td>\n      <td>0.0</td>\n    </tr>\n    <tr>\n      <th>4</th>\n      <td>1</td>\n      <td>1</td>\n      <td>5</td>\n      <td>SEA</td>\n      <td>DTW</td>\n      <td>23</td>\n      <td>0.0</td>\n      <td>0.0</td>\n      <td>0.0</td>\n    </tr>\n  </tbody>\n</table>\n</div>",
            "text/plain": "   MONTH  DAY_OF_MONTH  DAY_OF_WEEK ORIGIN DEST  CRS_DEP_TIME  CANCELLED  \\\n0      1             1            5    ATL  SEA            19        0.0   \n1      1             1            5    DTW  MSP            13        0.0   \n2      1             1            5    ATL  SEA             9        0.0   \n3      1             1            5    SEA  MSP             8        0.0   \n4      1             1            5    SEA  DTW            23        0.0   \n\n   DIVERTED  ARR_DEL15  \n0       0.0        0.0  \n1       0.0        0.0  \n2       0.0        0.0  \n3       0.0        0.0  \n4       0.0        0.0  "
          },
          "metadata": {}
        }
      ]
    },
    {
      "metadata": {},
      "cell_type": "markdown",
      "source": "Now we will be adding indicator columns for the ORIG and DEST ports"
    },
    {
      "metadata": {
        "trusted": true
      },
      "cell_type": "code",
      "source": "flightdata = pd.get_dummies(flightdata, columns=['ORIGIN','DEST'])\nflightdata.head()",
      "execution_count": 20,
      "outputs": [
        {
          "output_type": "execute_result",
          "execution_count": 20,
          "data": {
            "text/html": "<div>\n<style scoped>\n    .dataframe tbody tr th:only-of-type {\n        vertical-align: middle;\n    }\n\n    .dataframe tbody tr th {\n        vertical-align: top;\n    }\n\n    .dataframe thead th {\n        text-align: right;\n    }\n</style>\n<table border=\"1\" class=\"dataframe\">\n  <thead>\n    <tr style=\"text-align: right;\">\n      <th></th>\n      <th>MONTH</th>\n      <th>DAY_OF_MONTH</th>\n      <th>DAY_OF_WEEK</th>\n      <th>CRS_DEP_TIME</th>\n      <th>CANCELLED</th>\n      <th>DIVERTED</th>\n      <th>ARR_DEL15</th>\n      <th>ORIGIN_ATL</th>\n      <th>ORIGIN_DTW</th>\n      <th>ORIGIN_JFK</th>\n      <th>ORIGIN_MSP</th>\n      <th>ORIGIN_SEA</th>\n      <th>DEST_ATL</th>\n      <th>DEST_DTW</th>\n      <th>DEST_JFK</th>\n      <th>DEST_MSP</th>\n      <th>DEST_SEA</th>\n    </tr>\n  </thead>\n  <tbody>\n    <tr>\n      <th>0</th>\n      <td>1</td>\n      <td>1</td>\n      <td>5</td>\n      <td>19</td>\n      <td>0.0</td>\n      <td>0.0</td>\n      <td>0.0</td>\n      <td>1</td>\n      <td>0</td>\n      <td>0</td>\n      <td>0</td>\n      <td>0</td>\n      <td>0</td>\n      <td>0</td>\n      <td>0</td>\n      <td>0</td>\n      <td>1</td>\n    </tr>\n    <tr>\n      <th>1</th>\n      <td>1</td>\n      <td>1</td>\n      <td>5</td>\n      <td>13</td>\n      <td>0.0</td>\n      <td>0.0</td>\n      <td>0.0</td>\n      <td>0</td>\n      <td>1</td>\n      <td>0</td>\n      <td>0</td>\n      <td>0</td>\n      <td>0</td>\n      <td>0</td>\n      <td>0</td>\n      <td>1</td>\n      <td>0</td>\n    </tr>\n    <tr>\n      <th>2</th>\n      <td>1</td>\n      <td>1</td>\n      <td>5</td>\n      <td>9</td>\n      <td>0.0</td>\n      <td>0.0</td>\n      <td>0.0</td>\n      <td>1</td>\n      <td>0</td>\n      <td>0</td>\n      <td>0</td>\n      <td>0</td>\n      <td>0</td>\n      <td>0</td>\n      <td>0</td>\n      <td>0</td>\n      <td>1</td>\n    </tr>\n    <tr>\n      <th>3</th>\n      <td>1</td>\n      <td>1</td>\n      <td>5</td>\n      <td>8</td>\n      <td>0.0</td>\n      <td>0.0</td>\n      <td>0.0</td>\n      <td>0</td>\n      <td>0</td>\n      <td>0</td>\n      <td>0</td>\n      <td>1</td>\n      <td>0</td>\n      <td>0</td>\n      <td>0</td>\n      <td>1</td>\n      <td>0</td>\n    </tr>\n    <tr>\n      <th>4</th>\n      <td>1</td>\n      <td>1</td>\n      <td>5</td>\n      <td>23</td>\n      <td>0.0</td>\n      <td>0.0</td>\n      <td>0.0</td>\n      <td>0</td>\n      <td>0</td>\n      <td>0</td>\n      <td>0</td>\n      <td>1</td>\n      <td>0</td>\n      <td>1</td>\n      <td>0</td>\n      <td>0</td>\n      <td>0</td>\n    </tr>\n  </tbody>\n</table>\n</div>",
            "text/plain": "   MONTH  DAY_OF_MONTH  DAY_OF_WEEK  CRS_DEP_TIME  CANCELLED  DIVERTED  \\\n0      1             1            5            19        0.0       0.0   \n1      1             1            5            13        0.0       0.0   \n2      1             1            5             9        0.0       0.0   \n3      1             1            5             8        0.0       0.0   \n4      1             1            5            23        0.0       0.0   \n\n   ARR_DEL15  ORIGIN_ATL  ORIGIN_DTW  ORIGIN_JFK  ORIGIN_MSP  ORIGIN_SEA  \\\n0        0.0           1           0           0           0           0   \n1        0.0           0           1           0           0           0   \n2        0.0           1           0           0           0           0   \n3        0.0           0           0           0           0           1   \n4        0.0           0           0           0           0           1   \n\n   DEST_ATL  DEST_DTW  DEST_JFK  DEST_MSP  DEST_SEA  \n0         0         0         0         0         1  \n1         0         0         0         1         0  \n2         0         0         0         0         1  \n3         0         0         0         1         0  \n4         0         1         0         0         0  "
          },
          "metadata": {}
        }
      ]
    },
    {
      "metadata": {},
      "cell_type": "markdown",
      "source": "We are more close to building a model now. To begin we will split data for the training and validation using the most familiar 80-20 split."
    },
    {
      "metadata": {
        "trusted": true
      },
      "cell_type": "code",
      "source": "from sklearn.model_selection import train_test_split\ntrain_x, test_x, train_y, test_y = train_test_split(flightdata.drop('ARR_DEL15', axis=1), flightdata['ARR_DEL15'], test_size=0.2, random_state=42)\n\nprint('Shape of the training features')\nprint(train_x.shape)\n\nprint('Shape of the test features')\nprint(test_x.shape)\n\nprint('Shape of the training labels')\nprint(train_y.shape)\n\nprint('Shape of the testing labels')\nprint(test_y.shape)",
      "execution_count": 21,
      "outputs": [
        {
          "output_type": "stream",
          "text": "Shape of the training features\n(8984, 16)\nShape of the test features\n(2247, 16)\nShape of the training labels\n(8984,)\nShape of the testing labels\n(2247,)\n",
          "name": "stdout"
        }
      ]
    },
    {
      "metadata": {},
      "cell_type": "markdown",
      "source": "Let us take a moment and understand what we are attempting to accomplish here. We intend to determine based on the parameters will the flight be delayed on arriving? Thus, we intend to classify the records in the dataset as delayed for arrival or not delayed for arrival.\nIt is very different from regression. Regression is more of extrapolating the known numerical values and extending it to situations where no observations has been made.\n\nThus, we need to use a classification model. To get started, there is no yardstick for Data Scientist to use select a specific algorithm. Only way is to build a model using the algorithm and determine the performance of the algorithm before deciding to move on to change the algorithm itself.\n\nWe start with RandomForestClassifier which happens to be a robost classification mechanism"
    },
    {
      "metadata": {
        "trusted": true
      },
      "cell_type": "code",
      "source": "from sklearn.ensemble import RandomForestClassifier\n\nmodel = RandomForestClassifier(random_state=13)\nmodel.fit(train_x, train_y)",
      "execution_count": 22,
      "outputs": [
        {
          "output_type": "stream",
          "text": "/home/nbuser/anaconda3_501/lib/python3.6/site-packages/sklearn/ensemble/forest.py:246: FutureWarning: The default value of n_estimators will change from 10 in version 0.20 to 100 in 0.22.\n  \"10 in version 0.20 to 100 in 0.22.\", FutureWarning)\n",
          "name": "stderr"
        },
        {
          "output_type": "execute_result",
          "execution_count": 22,
          "data": {
            "text/plain": "RandomForestClassifier(bootstrap=True, class_weight=None, criterion='gini',\n            max_depth=None, max_features='auto', max_leaf_nodes=None,\n            min_impurity_decrease=0.0, min_impurity_split=None,\n            min_samples_leaf=1, min_samples_split=2,\n            min_weight_fraction_leaf=0.0, n_estimators=10, n_jobs=None,\n            oob_score=False, random_state=13, verbose=0, warm_start=False)"
          },
          "metadata": {}
        }
      ]
    },
    {
      "metadata": {
        "trusted": true
      },
      "cell_type": "code",
      "source": "predicted = model.predict(test_x)\nmodel.score(test_x, test_y)",
      "execution_count": 23,
      "outputs": [
        {
          "output_type": "execute_result",
          "execution_count": 23,
          "data": {
            "text/plain": "0.8713840676457499"
          },
          "metadata": {}
        }
      ]
    },
    {
      "metadata": {},
      "cell_type": "markdown",
      "source": "Having a model is not sufficient. We need to score the model which is a great starting point for evaluating the model accuracy. Higher the score better the model is the common notion. Score will range from 0 - 1. Score alone is not a solid enough metric to move ahead with. There are other better measures which will be expand into here for the built model."
    },
    {
      "metadata": {
        "trusted": true
      },
      "cell_type": "code",
      "source": "from sklearn.metrics import roc_auc_score\nprobabilities = model.predict_proba(test_x)\nroc_auc_score(test_y, probabilities[:,1])",
      "execution_count": 25,
      "outputs": [
        {
          "output_type": "execute_result",
          "execution_count": 25,
          "data": {
            "text/plain": "0.684956385692647"
          },
          "metadata": {}
        }
      ]
    }
  ],
  "metadata": {
    "kernelspec": {
      "name": "python36",
      "display_name": "Python 3.6",
      "language": "python"
    },
    "language_info": {
      "mimetype": "text/x-python",
      "nbconvert_exporter": "python",
      "name": "python",
      "pygments_lexer": "ipython3",
      "version": "3.6.6",
      "file_extension": ".py",
      "codemirror_mode": {
        "version": 3,
        "name": "ipython"
      }
    }
  },
  "nbformat": 4,
  "nbformat_minor": 1
}